{
 "cells": [
  {
   "cell_type": "markdown",
   "source": [
    "## 1. Összefűzzük a dialógusokat. Létrehozunk egy file-t, amely az összes dialógust tartalmazza és egy meta file-t, hogy vissza tudjuk keresni a dialógusokat."
   ],
   "metadata": {
    "collapsed": false
   }
  },
  {
   "cell_type": "code",
   "execution_count": 3,
   "outputs": [
    {
     "name": "stdout",
     "output_type": "stream",
     "text": [
      "Az adatbázis 23604 beszédfordulót tartalmaz.\n",
      "Az adatbázis első beszédfordulójának metaadata: pair81_freeConv_combined_srt_files.txt_mordor_0\n"
     ]
    }
   ],
   "source": [
    "import huspacy\n",
    "import os\n",
    "import pickle\n",
    "directory = \"../data/combined_transcripts_freeConv\"\n",
    "\n",
    "docs = []\n",
    "meta = {}\n",
    "i = 0\n",
    "for filename in os.listdir(directory):\n",
    "    with open(os.path.join(directory, filename), 'r', encoding=\"UTF-8\") as f:\n",
    "        txt = f.read()\n",
    "\n",
    "    mordor = [e.strip() for e in txt.split(\"\\n\") if e.startswith(\"Mordor: \")]\n",
    "    gondor = [e.strip() for e in txt.split(\"\\n\") if e.startswith(\"Gondor: \")]\n",
    "\n",
    "    j = len(mordor)\n",
    "    k = len(gondor)\n",
    "    for h in range(j):\n",
    "        meta[i+h] = filename + \"_mordor_\" + str(h)\n",
    "    for g in range(k):\n",
    "        meta[i+g+j] = filename + \"_gondor_\" + str(g)\n",
    "    mordor = [e.replace(\"Mordor: \", \"\") for e in mordor]\n",
    "    gondor = [e.replace(\"Gondor: \", \"\") for e in gondor]\n",
    "\n",
    "    docs += mordor + gondor\n",
    "    a = (j+k)\n",
    "    i += a\n",
    "with open(\"../data/docs.pkl\", \"wb\") as outfile:\n",
    "    pickle.dump(docs, outfile)\n",
    "\n",
    "with open(\"../data/meta.pkl\", \"wb\") as outfile:\n",
    "    pickle.dump(meta, outfile)\n",
    "\n",
    "print(\"Az adatbázis\",len(docs), \"beszédfordulót tartalmaz.\")\n",
    "print(\"Az adatbázis első beszédfordulójának metaadata:\", meta[0])"
   ],
   "metadata": {
    "collapsed": false,
    "ExecuteTime": {
     "end_time": "2024-10-03T14:13:30.529388764Z",
     "start_time": "2024-10-03T14:13:30.266411083Z"
    }
   }
  },
  {
   "cell_type": "markdown",
   "source": [
    "## 2. Előfeldolgozzuk a zsöveget: lemmatizálunk, tokenizálunk, POS-tagelünk. Lementjük az adatokat. Lehet, hogy a huspacy nem fog betölteni, akkor használjuk az előre megadott lemmatizált szöveget és menjünk tovább az ebben a notebookban lévő 3. lépésre."
   ],
   "metadata": {
    "collapsed": false
   }
  },
  {
   "cell_type": "code",
   "execution_count": 1,
   "outputs": [],
   "source": [
    "import spacy\n",
    "import huspacy\n",
    "nlp = huspacy.load()"
   ],
   "metadata": {
    "collapsed": false,
    "ExecuteTime": {
     "end_time": "2024-10-03T12:37:33.523283586Z",
     "start_time": "2024-10-03T12:37:04.912241449Z"
    }
   }
  },
  {
   "cell_type": "code",
   "execution_count": null,
   "outputs": [],
   "source": [
    "import pickle\n",
    "\n",
    "docs_lemmatized = []\n",
    "docs_pos = []\n",
    "docs_tokenized = []\n",
    "\n",
    "for line in docs:\n",
    "    lemmatized = []\n",
    "    postagged = []\n",
    "    tokenized = []\n",
    "    processed_line = nlp(line)\n",
    "    for token in processed_line:\n",
    "        if token.pos_ not in [\"PUNCT\"]:\n",
    "            lemma = token.lemma_.replace(\">\",\"\").replace(\".\",\"\").lower()\n",
    "            pos = f\"{lemma}_{token.pos_}\"\n",
    "            str_token = token.text\n",
    "            lemmatized.append(lemma)\n",
    "            tokenized.append(str_token)\n",
    "            postagged.append(pos)\n",
    "    if len(lemmatized) == 0:\n",
    "        lemmatized = [\"U\"]\n",
    "    if len(postagged) == 0:\n",
    "        postagged = [\"U\"]\n",
    "    if len(tokenized) == 0:\n",
    "        tokenized = [\"U\"]\n",
    "    docs_lemmatized.append(\" \".join(lemmatized))\n",
    "    docs_pos.append(\" \".join(postagged))\n",
    "    docs_tokenized.append(\" \".join(tokenized))\n",
    "\n",
    "with open(\"../data/lemmatized.pkl\", \"wb\") as outfile:\n",
    "    pickle.dump(docs_lemmatized, outfile)\n",
    "\n",
    "with open(\"../data/pos.pkl\", \"wb\") as outfile:\n",
    "    pickle.dump(docs_pos, outfile)\n",
    "\n",
    "with open(\"../data/tokenized.pkl\", \"wb\") as outfile:\n",
    "    pickle.dump(docs_tokenized, outfile)"
   ],
   "metadata": {
    "collapsed": false
   }
  },
  {
   "cell_type": "markdown",
   "source": [
    "## 3. Folytatjuk az előfeldolgozást: kiszűrjük a stop szavakat, lementjük az adatot."
   ],
   "metadata": {
    "collapsed": false
   }
  },
  {
   "cell_type": "code",
   "execution_count": 4,
   "outputs": [],
   "source": [
    "lemmatized = pickle.load(open(\"../data/lemmatized.pkl\", \"rb\"))\n",
    "with open('../data/stopwordlist.txt', 'r') as infile:\n",
    "    stoplist = infile.read().split('\\n')\n",
    "lemmatized_split = [e.split()for e in lemmatized]\n",
    "filtered = []\n",
    "for e in lemmatized_split:\n",
    "    temp = []\n",
    "    for word in e:\n",
    "        if word not in stoplist:\n",
    "            temp.append(word)\n",
    "    if len(temp) > 0:\n",
    "        filtered.append(\" \".join(temp))\n",
    "    else:\n",
    "        filtered.append(\"PlaceHolder\")\n",
    "with open(\"../data/stopword_filtered.pkl\", \"wb\") as outfile:\n",
    "    pickle.dump(filtered, outfile)"
   ],
   "metadata": {
    "collapsed": false,
    "ExecuteTime": {
     "end_time": "2024-10-03T14:13:42.722422058Z",
     "start_time": "2024-10-03T14:13:40.007556854Z"
    }
   }
  },
  {
   "cell_type": "code",
   "execution_count": null,
   "outputs": [],
   "source": [],
   "metadata": {
    "collapsed": false
   }
  }
 ],
 "metadata": {
  "kernelspec": {
   "display_name": "Python 3",
   "language": "python",
   "name": "python3"
  },
  "language_info": {
   "codemirror_mode": {
    "name": "ipython",
    "version": 2
   },
   "file_extension": ".py",
   "mimetype": "text/x-python",
   "name": "python",
   "nbconvert_exporter": "python",
   "pygments_lexer": "ipython2",
   "version": "2.7.6"
  }
 },
 "nbformat": 4,
 "nbformat_minor": 0
}
