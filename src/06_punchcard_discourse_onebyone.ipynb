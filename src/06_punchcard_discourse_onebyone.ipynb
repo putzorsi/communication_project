{
 "cells": [
  {
   "metadata": {
    "ExecuteTime": {
     "end_time": "2024-11-15T11:11:53.844457Z",
     "start_time": "2024-11-15T11:11:53.070314Z"
    }
   },
   "cell_type": "code",
   "source": [
    "import altair as alt\n",
    "import pandas as pd\n",
    "import glob\n",
    "import os"
   ],
   "id": "2e67daab37b80d5f",
   "outputs": [],
   "execution_count": 1
  },
  {
   "metadata": {
    "ExecuteTime": {
     "end_time": "2024-11-15T11:11:53.863468Z",
     "start_time": "2024-11-15T11:11:53.851909Z"
    }
   },
   "cell_type": "code",
   "source": [
    "topics = pd.read_csv('../results/bert_probabilities_merged_85_new_names.csv', sep=',')\n",
    "topic_names = topics.set_index('Topic')['CustomName']\n",
    "csv_files = glob.glob('../results/discourse_matrices/*.csv')"
   ],
   "id": "4a831a0ba86b9cf2",
   "outputs": [],
   "execution_count": 2
  },
  {
   "metadata": {
    "ExecuteTime": {
     "end_time": "2024-11-15T11:12:03.148184Z",
     "start_time": "2024-11-15T11:11:54.090350Z"
    }
   },
   "cell_type": "code",
   "source": [
    "for csv_file in csv_files:\n",
    "    df = pd.read_csv(csv_file)\n",
    "    df.drop(columns=['Unnamed: 0'], inplace=True)\n",
    "    df = df * 100\n",
    "    df['sor'] = df.index\n",
    "    value_vars = df.columns[:-1]  # Exclude the 'sor' column\n",
    "    df_melted = pd.melt(\n",
    "        df,\n",
    "        id_vars=['sor'],\n",
    "        value_vars=value_vars\n",
    "    )\n",
    "    df_melted['topik'] = df_melted['variable']\n",
    "    df_melted.drop(columns=['variable'], inplace=True)\n",
    "    df_melted['topik_nev'] = df_melted['topik'].apply(lambda x: topic_names[int(x)])\n",
    "    alt.themes.enable('fivethirtyeight')\n",
    "    chart = (\n",
    "        alt.Chart(df_melted)\n",
    "        .mark_circle()\n",
    "        .encode(\n",
    "            x=alt.X('sor:N', axis=alt.Axis(labelAngle=-45)),\n",
    "            y='topik:N',\n",
    "            size=alt.Size('value:Q', scale=alt.Scale(range=[0, 1000]), title=None, legend=None),\n",
    "            color=alt.Color(\n",
    "                'topik_nev:N',\n",
    "                scale=alt.Scale(\n",
    "                    range=[\n",
    "                        'blue', 'red', 'green', 'yellow', 'purple', 'orange', 'brown', 'black', 'grey', 'violet', 'cyan', 'magenta', 'olive', 'maroon', 'lime', 'teal', 'indigo', 'violet', 'pink', 'gold', 'silver', 'hotpink', 'midnightblue', 'darkorchid', 'rosybrown'\n",
    "                    ]\n",
    "                ),\n",
    "                legend=alt.Legend(title='Topik')\n",
    "            ),\n",
    "            tooltip=['topik_nev', 'value'],\n",
    "        )\n",
    "    ).interactive()\n",
    "    output_file = os.path.join('../vizs/punchcard_per_discourse', f'punchcard_{os.path.basename(csv_file).split(\".\")[0]}.html')\n",
    "    chart.save(output_file)"
   ],
   "id": "c2cea683d486308a",
   "outputs": [],
   "execution_count": 3
  }
 ],
 "metadata": {
  "kernelspec": {
   "display_name": "Python 3",
   "language": "python",
   "name": "python3"
  },
  "language_info": {
   "codemirror_mode": {
    "name": "ipython",
    "version": 2
   },
   "file_extension": ".py",
   "mimetype": "text/x-python",
   "name": "python",
   "nbconvert_exporter": "python",
   "pygments_lexer": "ipython2",
   "version": "2.7.6"
  }
 },
 "nbformat": 4,
 "nbformat_minor": 5
}
