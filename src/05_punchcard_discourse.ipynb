{
 "cells": [
  {
   "cell_type": "code",
   "metadata": {
    "collapsed": true,
    "ExecuteTime": {
     "end_time": "2024-11-15T11:09:56.005387Z",
     "start_time": "2024-11-15T11:09:55.574383Z"
    }
   },
   "source": [
    "import altair as alt\n",
    "import pandas as pd"
   ],
   "outputs": [],
   "execution_count": 1
  },
  {
   "cell_type": "code",
   "source": [
    "df = pd.read_csv(\"../results/melted_discourse_probs.csv\",sep=\",\")\n",
    "df.drop(columns=[\"Unnamed: 0\"], inplace=True)\n",
    "df[\"value\"] = df[\"value\"].astype(float)\n",
    "df[\"percent\"] = df[\"value\"] * 100\n",
    "df.head(10)"
   ],
   "metadata": {
    "collapsed": false,
    "ExecuteTime": {
     "end_time": "2024-11-15T11:10:01.842912Z",
     "start_time": "2024-11-15T11:10:01.817231Z"
    }
   },
   "outputs": [
    {
     "data": {
      "text/plain": [
       "   diskurzus     value  topik      topik_nev    percent\n",
       "0          0  0.232671      0  diskurzuselem  23.267105\n",
       "1          1  0.201424      0  diskurzuselem  20.142380\n",
       "2          2  0.239162      0  diskurzuselem  23.916230\n",
       "3          3  0.174445      0  diskurzuselem  17.444515\n",
       "4          4  0.259735      0  diskurzuselem  25.973538\n",
       "5          5  0.182825      0  diskurzuselem  18.282506\n",
       "6          6  0.200017      0  diskurzuselem  20.001719\n",
       "7          7  0.199838      0  diskurzuselem  19.983815\n",
       "8          8  0.237428      0  diskurzuselem  23.742808\n",
       "9          9  0.145446      0  diskurzuselem  14.544636"
      ],
      "text/html": [
       "<div>\n",
       "<style scoped>\n",
       "    .dataframe tbody tr th:only-of-type {\n",
       "        vertical-align: middle;\n",
       "    }\n",
       "\n",
       "    .dataframe tbody tr th {\n",
       "        vertical-align: top;\n",
       "    }\n",
       "\n",
       "    .dataframe thead th {\n",
       "        text-align: right;\n",
       "    }\n",
       "</style>\n",
       "<table border=\"1\" class=\"dataframe\">\n",
       "  <thead>\n",
       "    <tr style=\"text-align: right;\">\n",
       "      <th></th>\n",
       "      <th>diskurzus</th>\n",
       "      <th>value</th>\n",
       "      <th>topik</th>\n",
       "      <th>topik_nev</th>\n",
       "      <th>percent</th>\n",
       "    </tr>\n",
       "  </thead>\n",
       "  <tbody>\n",
       "    <tr>\n",
       "      <th>0</th>\n",
       "      <td>0</td>\n",
       "      <td>0.232671</td>\n",
       "      <td>0</td>\n",
       "      <td>diskurzuselem</td>\n",
       "      <td>23.267105</td>\n",
       "    </tr>\n",
       "    <tr>\n",
       "      <th>1</th>\n",
       "      <td>1</td>\n",
       "      <td>0.201424</td>\n",
       "      <td>0</td>\n",
       "      <td>diskurzuselem</td>\n",
       "      <td>20.142380</td>\n",
       "    </tr>\n",
       "    <tr>\n",
       "      <th>2</th>\n",
       "      <td>2</td>\n",
       "      <td>0.239162</td>\n",
       "      <td>0</td>\n",
       "      <td>diskurzuselem</td>\n",
       "      <td>23.916230</td>\n",
       "    </tr>\n",
       "    <tr>\n",
       "      <th>3</th>\n",
       "      <td>3</td>\n",
       "      <td>0.174445</td>\n",
       "      <td>0</td>\n",
       "      <td>diskurzuselem</td>\n",
       "      <td>17.444515</td>\n",
       "    </tr>\n",
       "    <tr>\n",
       "      <th>4</th>\n",
       "      <td>4</td>\n",
       "      <td>0.259735</td>\n",
       "      <td>0</td>\n",
       "      <td>diskurzuselem</td>\n",
       "      <td>25.973538</td>\n",
       "    </tr>\n",
       "    <tr>\n",
       "      <th>5</th>\n",
       "      <td>5</td>\n",
       "      <td>0.182825</td>\n",
       "      <td>0</td>\n",
       "      <td>diskurzuselem</td>\n",
       "      <td>18.282506</td>\n",
       "    </tr>\n",
       "    <tr>\n",
       "      <th>6</th>\n",
       "      <td>6</td>\n",
       "      <td>0.200017</td>\n",
       "      <td>0</td>\n",
       "      <td>diskurzuselem</td>\n",
       "      <td>20.001719</td>\n",
       "    </tr>\n",
       "    <tr>\n",
       "      <th>7</th>\n",
       "      <td>7</td>\n",
       "      <td>0.199838</td>\n",
       "      <td>0</td>\n",
       "      <td>diskurzuselem</td>\n",
       "      <td>19.983815</td>\n",
       "    </tr>\n",
       "    <tr>\n",
       "      <th>8</th>\n",
       "      <td>8</td>\n",
       "      <td>0.237428</td>\n",
       "      <td>0</td>\n",
       "      <td>diskurzuselem</td>\n",
       "      <td>23.742808</td>\n",
       "    </tr>\n",
       "    <tr>\n",
       "      <th>9</th>\n",
       "      <td>9</td>\n",
       "      <td>0.145446</td>\n",
       "      <td>0</td>\n",
       "      <td>diskurzuselem</td>\n",
       "      <td>14.544636</td>\n",
       "    </tr>\n",
       "  </tbody>\n",
       "</table>\n",
       "</div>"
      ]
     },
     "execution_count": 2,
     "metadata": {},
     "output_type": "execute_result"
    }
   ],
   "execution_count": 2
  },
  {
   "cell_type": "code",
   "source": [
    "alt.themes.enable(\"fivethirtyeight\")\n",
    "\n",
    "chart = (\n",
    "    alt.Chart(df)\n",
    "    .mark_circle()\n",
    "    .encode(\n",
    "        x=alt.X('diskurzus:N', axis=alt.Axis(labelAngle=-45)),\n",
    "        y=\"topik:N\",\n",
    "        size=alt.Size(\"percent:Q\",scale=alt.Scale(range=[0,1000]),title=None, legend=None),\n",
    "        color=alt.Color(\"topik_nev:N\",scale=alt.Scale(range=[\"blue\", \"red\", \"green\", \"yellow\", \"purple\", \"orange\", \"brown\", \"black\", \"grey\", \"violet\", \"cyan\", \"magenta\", \"olive\", \"maroon\", \"lime\", \"teal\", \"indigo\", \"darkgrey\", \"pink\", \"gold\", \"silver\", \"hotpink\", \"midnightblue\", \"darkorchid\", \"rosybrown\"]),legend=alt.Legend(title=\"Topik\")),\n",
    "        tooltip=[\"topik\", \"percent\"],\n",
    "    )\n",
    ").interactive()\n",
    "chart.save(\"../vizs/punchcard_discourse.html\")"
   ],
   "metadata": {
    "collapsed": false,
    "ExecuteTime": {
     "end_time": "2024-11-15T11:11:48.640199Z",
     "start_time": "2024-11-15T11:11:48.505672Z"
    }
   },
   "outputs": [],
   "execution_count": 3
  },
  {
   "cell_type": "code",
   "source": "",
   "metadata": {
    "collapsed": false,
    "ExecuteTime": {
     "end_time": "2024-10-25T07:23:48.183572Z",
     "start_time": "2024-10-25T07:23:48.181712Z"
    }
   },
   "outputs": [],
   "execution_count": null
  }
 ],
 "metadata": {
  "kernelspec": {
   "display_name": "Python 3",
   "language": "python",
   "name": "python3"
  },
  "language_info": {
   "codemirror_mode": {
    "name": "ipython",
    "version": 2
   },
   "file_extension": ".py",
   "mimetype": "text/x-python",
   "name": "python",
   "nbconvert_exporter": "python",
   "pygments_lexer": "ipython2",
   "version": "2.7.6"
  }
 },
 "nbformat": 4,
 "nbformat_minor": 0
}
