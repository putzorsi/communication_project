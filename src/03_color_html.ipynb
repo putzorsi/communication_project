{
 "cells": [
  {
   "cell_type": "markdown",
   "source": [
    "### A BERTopic-ról\n",
    "https://maartengr.github.io/BERTopic/algorithm/algorithm.html#6-optional-fine-tune-topic-representation\n",
    "\n",
    "https://towardsdatascience.com/topics-per-class-using-bertopic-252314f2640\n",
    "\n",
    "https://people.inf.elte.hu/csa/html/szinek.htm"
   ],
   "metadata": {
    "collapsed": false
   }
  },
  {
   "cell_type": "code",
   "execution_count": null,
   "outputs": [],
   "source": [
    "from bertopic import BERTopic\n",
    "from hdbscan import HDBSCAN\n",
    "from bertopic.representation import KeyBERTInspired, MaximalMarginalRelevance\n",
    "from sentence_transformers import SentenceTransformer\n",
    "\n",
    "import pickle\n",
    "import huspacy\n"
   ],
   "metadata": {
    "collapsed": false
   }
  },
  {
   "cell_type": "code",
   "execution_count": null,
   "outputs": [],
   "source": [
    "meta = pickle.load(open(\"../data/meta.pkl\", \"rb\"))\n",
    "lemmatized = pickle.load(open(\"../data/lemmatized.pkl\", \"rb\"))\n",
    "#pos = pickle.load(open(\"../data/pos.pkl\", \"rb\"))\n",
    "#tokens =  pickle.load(open(\"../data/tokenized.pkl\", \"rb\"))\n",
    "#doc_stop = pickle.load(open(\"../data/no_stopword.pkl\", \"rb\")) ### kevesebb stopszóval\n",
    "doc_stop_2 = pickle.load(open(\"../data/stopword_filtered.pkl\", \"rb\")) ### több stop szóval\n",
    "all_docs = pickle.load(open(\"../data/docs.pkl\", \"rb\"))"
   ],
   "metadata": {
    "collapsed": false
   }
  },
  {
   "cell_type": "markdown",
   "source": [
    "## 1. Betöltjük az általunk választott modellt és ábrázoljuk az eredeti beszélgetések topikjait. Több lementett modellel is kísérletezhetünk."
   ],
   "metadata": {
    "collapsed": false
   }
  },
  {
   "cell_type": "code",
   "execution_count": null,
   "outputs": [],
   "source": [
    "loaded_model_path = \"../data/models/bert_stop_2_probabilities_merged_85\"\n",
    "#esetleg: \"bert_model_reduced_prob\" vagy bert_stop_new: ez új stopszó listával vagy bert_stop_distribution\n",
    "loaded_model = BERTopic.load(loaded_model_path)\n",
    "print(\"A modellt betöltöttük\")"
   ],
   "metadata": {
    "collapsed": false
   }
  },
  {
   "cell_type": "code",
   "execution_count": null,
   "outputs": [],
   "source": [
    "loaded_model.get_topic_info()"
   ],
   "metadata": {
    "collapsed": false
   }
  },
  {
   "cell_type": "code",
   "execution_count": null,
   "outputs": [],
   "source": [
    "t = loaded_model.get_topic_info()\n",
    "print(t)"
   ],
   "metadata": {
    "collapsed": false
   }
  },
  {
   "cell_type": "markdown",
   "source": [
    "## 2. Megcsináljuk a html-t"
   ],
   "metadata": {
    "collapsed": false
   }
  },
  {
   "cell_type": "code",
   "execution_count": null,
   "outputs": [],
   "source": [
    "html_start = \"\"\"<!DOCTYPE html>\n",
    "<html>\n",
    "<head>\n",
    "<meta name=\"viewport\" content=\"width=device-width, initial-scale=1\"  charset=\"UTF-8\">\n",
    "<style>\n",
    "div.sticky {\n",
    "  position: sticky; top:30%;\n",
    "  background-color: white;\n",
    "  padding: 50px;\n",
    "  font-size: 10px; float: right; display:table;\n",
    "}\n",
    "table {\n",
    "    border-collapse: collapse;\n",
    "    width: 100%;\n",
    "}\n",
    "th, td {\n",
    "    border: 1px solid #7a3f3f;\n",
    "    padding: 10px;\n",
    "    text-align: center;\n",
    "}\n",
    "</style>\n",
    "</head>\n",
    "<body>\n",
    "\n",
    "<div class=\"sticky\">\n",
    "    <table>\n",
    "        <tr>\n",
    "            <td>Téma</td>\n",
    "            <td>Szín</td>\n",
    "        </tr>\"\"\""
   ],
   "metadata": {
    "collapsed": false
   }
  },
  {
   "cell_type": "code",
   "execution_count": null,
   "outputs": [],
   "source": [
    "legend_end = \"\"\"\n",
    "</table>\n",
    "</div>\n",
    "\"\"\""
   ],
   "metadata": {
    "collapsed": false
   }
  },
  {
   "cell_type": "code",
   "execution_count": null,
   "outputs": [],
   "source": [
    "html_end = \"\"\"\n",
    "</body>\n",
    "</html>\n",
    "\"\"\""
   ],
   "metadata": {
    "collapsed": false
   }
  },
  {
   "cell_type": "markdown",
   "source": [
    "## 3. Összerakjuk az eredeti dialógusokat és a beszédfordulókhoz rendeljük a legvalószínűbb (első helyen álló) topikját, megszínezzük. Egy mappába lementjük az összes html file-t"
   ],
   "metadata": {
    "collapsed": false
   }
  },
  {
   "cell_type": "code",
   "execution_count": null,
   "outputs": [],
   "source": [
    "import os\n",
    "\n",
    "main_topics = loaded_model.topics_\n",
    "with open(\"../data/colors.txt\", \"r\") as infile:\n",
    "    colors = infile.read().strip().split(\"\\n\")\n",
    "ddir = \"../data/combined_transcripts_freeConv\"\n",
    "input_files = [f for f in os.listdir(ddir) if os.path.isfile(os.path.join(ddir, f))]\n",
    "meta2idx = {v: k for k,v in meta.items()}\n",
    "topic_num2name = dict(zip(t[\"Topic\"], t[\"Name\"]))\n",
    "\n",
    "for input_file in input_files:\n",
    "    legend_table = []\n",
    "    local_html = html_start\n",
    "    # html eleje\n",
    "    with open(os.path.join(ddir, input_file)) as infile:\n",
    "        txt = infile.read()\n",
    "    # találd ki hogy mordor vagy gondor az első\n",
    "    dialogue_docs = [d for d in meta.values() if d.startswith(input_file)] # a dialógushoz tartozó dokumentumok listája\n",
    "    dialogue_idx = [meta2idx[d] for d in dialogue_docs] # a dialógushoz tartozó dokumentumok indexeinek listája\n",
    "\n",
    "    mordor = [d for d in dialogue_docs if \"mordor\" in d] # a Mordor nevű karakterhez tartozó dokumentumok listája\n",
    "    mordor_idx = [meta2idx[d] for d in mordor] # a Mordor nevű karakterhez tartozó dokumentumok indexeinek listája\n",
    "    mordor_topics = [main_topics[i] for i in mordor_idx] # a Mordor nevű karakterhez tartozó dokumentumok témáinak listája\n",
    "    gondor = [d for d in dialogue_docs if \"gondor\" in d] # a Gondor nevű karakterhez tartozó dokumentumok listája\n",
    "    gondor_idx = [meta2idx[d] for d in gondor] # a Gondor nevű karakterhez tartozó dokumentumok indexeinek listája\n",
    "    gondor_topics = [main_topics[i] for i in gondor_idx] # a Gondor nevű karakterhez tartozó dokumentumok témáinak listája\n",
    "\n",
    "    if txt.startswith(\"Mordor:\"):\n",
    "        zipped_idx = list(zip(mordor_idx, gondor_idx))\n",
    "    else:\n",
    "        zipped_idx = list(zip(gondor_idx, mordor_idx))\n",
    "\n",
    "    number_of_topics = list(set(gondor_topics + mordor_topics)) # a dialógusban szereplő témák számának meghatározása\n",
    "    topic2color = {i: colors[i] for i in number_of_topics}\n",
    "    for k, v in topic2color.items():\n",
    "        print(v)\n",
    "        row = f\"\"\"<tr>\n",
    "                <td>{topic_num2name[k]}</td>\n",
    "                <td style=\"background-color: {v}\"></td>\n",
    "            </tr>\\n\"\"\"\n",
    "        local_html += row\n",
    "    local_html += legend_end\n",
    "    for e in zipped_idx:\n",
    "        turn1 = all_docs[e[0]]\n",
    "        turn2 = all_docs[e[1]]\n",
    "        topic1 = main_topics[e[0]]\n",
    "        topic2 = main_topics[e[1]]\n",
    "\n",
    "    o = []\n",
    "    for e in zipped_idx:\n",
    "        turn1 = all_docs[e[0]].replace(\"<\", \"\").replace(\">\", \"\")\n",
    "        turn2 = all_docs[e[1]].replace(\"<\", \"\").replace(\">\", \"\")\n",
    "\n",
    "        topic1 = main_topics[e[0]]\n",
    "        topic2 = main_topics[e[1]]\n",
    "\n",
    "        html1 = f\"<p style=\\\"background-color:{topic2color[topic1]};\\\">{turn1}</p>\"\n",
    "        html2 = f\"<p style=\\\"background-color:{topic2color[topic2]};\\\">{turn2}</p>\"\n",
    "        o.append(html1)\n",
    "        o.append(html2)\n",
    "    local_html += \"\\n\".join(o)\n",
    "    final_html = local_html + html_end\n",
    "    with open(f\"../data/htmls/{input_file}.html\", \"w\") as outfile:\n",
    "        outfile.write(final_html)"
   ],
   "metadata": {
    "collapsed": false
   }
  }
 ],
 "metadata": {
  "kernelspec": {
   "display_name": "Python 3",
   "language": "python",
   "name": "python3"
  },
  "language_info": {
   "codemirror_mode": {
    "name": "ipython",
    "version": 2
   },
   "file_extension": ".py",
   "mimetype": "text/x-python",
   "name": "python",
   "nbconvert_exporter": "python",
   "pygments_lexer": "ipython2",
   "version": "2.7.6"
  }
 },
 "nbformat": 4,
 "nbformat_minor": 0
}
