{
 "cells": [
  {
   "cell_type": "markdown",
   "source": [
    "### A BERTopic-ról hasznos dokumentumok\n",
    "https://maartengr.github.io/BERTopic/algorithm/algorithm.html#6-optional-fine-tune-topic-representation\n",
    "\n",
    "https://towardsdatascience.com/topics-per-class-using-bertopic-252314f2640\n",
    "\n",
    "https://people.inf.elte.hu/csa/html/szinek.htm"
   ],
   "metadata": {
    "collapsed": false
   }
  },
  {
   "cell_type": "code",
   "execution_count": null,
   "outputs": [],
   "source": [
    "from bertopic import BERTopic\n",
    "from hdbscan import HDBSCAN\n",
    "from bertopic.representation import KeyBERTInspired, MaximalMarginalRelevance\n",
    "from sentence_transformers import SentenceTransformer\n",
    "\n",
    "import pickle\n",
    "import huspacy\n"
   ],
   "metadata": {
    "collapsed": false
   }
  },
  {
   "cell_type": "markdown",
   "source": [
    "## 1. Beolvassuk az előfeldolgozott korpuszokat. Később választhatunk, hogy a lemmatizált vagy a lemmatizált és stop szavaktól megszűrt korpuszon dolgozunk-e."
   ],
   "metadata": {
    "collapsed": false
   }
  },
  {
   "cell_type": "code",
   "execution_count": null,
   "outputs": [],
   "source": [
    "meta = pickle.load(open(\"../data/meta.pkl\", \"rb\"))\n",
    "lemmatized = pickle.load(open(\"../data/lemmatized.pkl\", \"rb\"))\n",
    "#pos = pickle.load(open(\"../data/pos.pkl\", \"rb\"))\n",
    "#tokens =  pickle.load(open(\"../data/tokenized.pkl\", \"rb\"))\n",
    "#doc_stop = pickle.load(open(\"../data/no_stopword.pkl\", \"rb\")) ### kevesebb stopszóval\n",
    "doc_stop_2 = pickle.load(open(\"../data/stopword_filtered.pkl\", \"rb\")) ### több stop szóval\n",
    "all_docs = pickle.load(open(\"../data/docs.pkl\", \"rb\"))"
   ],
   "metadata": {
    "collapsed": false
   }
  },
  {
   "cell_type": "markdown",
   "source": [
    "## 2. Készítünk egy listát az előre megadott témák szavaiból"
   ],
   "metadata": {
    "collapsed": false
   }
  },
  {
   "cell_type": "code",
   "execution_count": null,
   "outputs": [],
   "source": [
    "seed_topic_list = [[\"szabadidő\", \"szabadidőtök\", \"szabadidőd\", \"szabadidődet\"],\n",
    "                   [\"nyelv\", \"nyelvtanulás\", \"nyelvvizsga\"],\n",
    "                   [\"sport\", \"sportol\", \"sportolás\"],\n",
    "                   [\"ismerkedés\", 'megismerkedik', \"megismer\"],\n",
    "                   [\"olvas\", \"olvasás\", \"könyv\"],\n",
    "                   ['külföld', 'külföldi', 'utazik'],\n",
    "                   [\"magyarország\"],\n",
    "                   [\"social\", \"media\", \"facebook\", \"facebookon\", 'instagram', 'instagramm', 'instagrammom', 'instagrammon']]\n",
    "#[\"igen\", \"ja\", \"persze\", \"aha\", \"hum\"], [\"laugh\", \"nevet\", \"vicces\"], [\"placeholder\"]"
   ],
   "metadata": {
    "collapsed": false
   }
  },
  {
   "cell_type": "code",
   "execution_count": null,
   "outputs": [],
   "source": [
    "## 3. Topic modellezünk. Beadjuk seednek az előre megadott témákat, így azokat könnyebben azonosítja a modell. Lekérjük minden topik leggyakoribb 40 szavát. Eldöntjük, hogy a lemmatizált vagy a stop szavazott adaton dolgozunk-e. 3 féle modellt kipróbálunk."
   ],
   "metadata": {
    "collapsed": false
   }
  },
  {
   "cell_type": "markdown",
   "source": [
    "## 3.1 Modell: BERTopic"
   ],
   "metadata": {
    "collapsed": false
   }
  },
  {
   "cell_type": "code",
   "execution_count": null,
   "outputs": [],
   "source": [
    "from bertopic import BERTopic\n",
    "from bertopic.representation import KeyBERTInspired, MaximalMarginalRelevance\n",
    "\n",
    "key = KeyBERTInspired()\n",
    "mm =  MaximalMarginalRelevance(diversity=0.3)\n",
    "btm_jo_seed = BERTopic(\"hungarian\", representation_model=[key, mm], seed_topic_list=seed_topic_list, min_topic_size = 50, calculate_probabilities=True)\n",
    "topics, probs = btm_jo_seed.fit_transform(doc_stop_2)"
   ],
   "metadata": {
    "collapsed": false
   }
  },
  {
   "cell_type": "code",
   "execution_count": null,
   "outputs": [],
   "source": [
    "btm_jo_seed_ti= btm_jo_seed.get_topic_info()\n",
    "btm_jo_seed_ti"
   ],
   "metadata": {
    "collapsed": false
   }
  },
  {
   "cell_type": "code",
   "execution_count": null,
   "outputs": [],
   "source": [
    "import pandas as pd\n",
    "probs_df=pd.DataFrame(probs)\n",
    "probs_df['main percentage'] = pd.DataFrame({'max': probs_df.max(axis=1)})\n",
    "probs_df"
   ],
   "metadata": {
    "collapsed": false
   }
  },
  {
   "cell_type": "markdown",
   "source": [
    "## Reduce outliers. Kétfélr módszert próbálunk ki: valószínűség és eloszlás alapján."
   ],
   "metadata": {
    "collapsed": false
   }
  },
  {
   "cell_type": "markdown",
   "source": [
    "## Valószínűség alapján"
   ],
   "metadata": {
    "collapsed": false
   }
  },
  {
   "cell_type": "code",
   "execution_count": null,
   "outputs": [],
   "source": [
    "new_topics = btm_jo_seed.reduce_outliers(doc_stop_2, topics, probabilities=probs, strategy=\"probabilities\")"
   ],
   "metadata": {
    "collapsed": false
   }
  },
  {
   "cell_type": "markdown",
   "source": [
    "## Frissítjük a modellt az outlierek kizárása után létrehozott új topikokkal és topikeloszlásokkal"
   ],
   "metadata": {
    "collapsed": false
   }
  },
  {
   "cell_type": "code",
   "execution_count": null,
   "outputs": [],
   "source": [
    "import pandas as pd\n",
    "btm_jo_seed.update_topics(doc_stop_2, new_topics)\n",
    "documents = pd.DataFrame({\"Document\": doc_stop_2, \"Topic\": new_topics})\n",
    "btm_jo_seed._update_topic_size(documents)"
   ],
   "metadata": {
    "collapsed": false
   }
  },
  {
   "cell_type": "code",
   "execution_count": null,
   "outputs": [],
   "source": [
    "btm_jo_seed_probs_ti = btm_jo_seed.get_topic_info()\n",
    "btm_jo_seed_probs_ti"
   ],
   "metadata": {
    "collapsed": false
   }
  },
  {
   "cell_type": "code",
   "execution_count": null,
   "outputs": [],
   "source": [
    "import pandas as pd\n",
    "probs_df_2=pd.DataFrame(probs)\n",
    "probs_df_2['main percentage'] = pd.DataFrame({'max': probs_df.max(axis=1)})\n",
    "probs_df_2"
   ],
   "metadata": {
    "collapsed": false
   }
  },
  {
   "cell_type": "markdown",
   "source": [
    "## Eloszlás alapján (default)."
   ],
   "metadata": {
    "collapsed": false
   }
  },
  {
   "cell_type": "code",
   "execution_count": null,
   "outputs": [],
   "source": [
    "from bertopic import BERTopic\n",
    "from bertopic.representation import KeyBERTInspired, MaximalMarginalRelevance\n",
    "\n",
    "key = KeyBERTInspired()\n",
    "mm =  MaximalMarginalRelevance(diversity=0.3)\n",
    "sima_btm = BERTopic(\"hungarian\", representation_model=[key, mm], seed_topic_list=seed_topic_list, min_topic_size = 50, calculate_probabilities=True)\n",
    "topics, probs = sima_btm.fit_transform(doc_stop_2)"
   ],
   "metadata": {
    "collapsed": false
   }
  },
  {
   "cell_type": "code",
   "execution_count": null,
   "outputs": [],
   "source": [
    "new_topics_2 = sima_btm.reduce_outliers(doc_stop, topics)"
   ],
   "metadata": {
    "collapsed": false
   }
  },
  {
   "cell_type": "code",
   "execution_count": null,
   "outputs": [],
   "source": [
    "import pandas as pd\n",
    "sima_btm.update_topics(doc_stop, new_topics_2)\n",
    "documents_2 = pd.DataFrame({\"Document\": doc_stop, \"Topic\": new_topics_2})\n",
    "sima_btm._update_topic_size(documents_2)"
   ],
   "metadata": {
    "collapsed": false
   }
  },
  {
   "cell_type": "code",
   "execution_count": null,
   "outputs": [],
   "source": [
    "btm_sima_ti_new = sima_btm.get_topic_info()\n",
    "btm_sima_ti_new"
   ],
   "metadata": {
    "collapsed": false
   }
  },
  {
   "cell_type": "markdown",
   "source": [
    "## 3.2 Modell: Sentence Transformer"
   ],
   "metadata": {
    "collapsed": false
   }
  },
  {
   "cell_type": "code",
   "execution_count": null,
   "outputs": [],
   "source": [
    "sentence_model = SentenceTransformer(\"NYTK/sentence-transformers-experimental-hubert-hungarian\")\n",
    "sentence_transformer_lemmatized = BERTopic(embedding_model=sentence_model, min_topic_size = 30, seed_topic_list=seed_topic_list)\n",
    "topics, probs = sentence_transformer_lemmatized.fit_transform(lemmatized)"
   ],
   "metadata": {
    "collapsed": false
   }
  },
  {
   "cell_type": "code",
   "execution_count": null,
   "outputs": [],
   "source": [
    "sentence_topic_info_lemmatized = sentence_transformer_lemmatized.get_topic_info()\n",
    "sentence_topic_info_lemmatized"
   ],
   "metadata": {
    "collapsed": false
   }
  },
  {
   "cell_type": "markdown",
   "source": [
    "## 3.3 Modell: Huspacy"
   ],
   "metadata": {
    "collapsed": false
   }
  },
  {
   "cell_type": "code",
   "execution_count": null,
   "outputs": [],
   "source": [
    "nlp = huspacy.load()\n",
    "spacy_lemmatized = BERTopic(embedding_model=nlp, min_topic_size = 30, seed_topic_list=seed_topic_list)\n",
    "topics, probs = spacy_lemmatized.fit_transform(lemmatized)"
   ],
   "metadata": {
    "collapsed": false
   }
  },
  {
   "cell_type": "code",
   "execution_count": null,
   "outputs": [],
   "source": [
    "spacy_topic_info_lemmatized = spacy_lemmatized.get_topic_info()\n",
    "spacy_topic_info_lemmatized"
   ],
   "metadata": {
    "collapsed": false
   }
  },
  {
   "cell_type": "markdown",
   "source": [
    "## 3.4 HDBscan"
   ],
   "metadata": {
    "collapsed": false
   }
  },
  {
   "cell_type": "code",
   "execution_count": null,
   "outputs": [],
   "source": [
    "hdbscan_model = HDBSCAN(min_cluster_size=30, metric='euclidean', cluster_selection_method='eom', prediction_data=True, min_samples=10)\n",
    "hdbscan_lemmatized = BERTopic(hdbscan_model=hdbscan_model, seed_topic_list=seed_topic_list)\n",
    "topics, probs = hdbscan_lemmatized.fit_transform(lemmatized)"
   ],
   "metadata": {
    "collapsed": false
   }
  },
  {
   "cell_type": "code",
   "execution_count": null,
   "outputs": [],
   "source": [
    "hdbscan_lemmatized_topic_info = hdbscan_lemmatized.get_topic_info()\n",
    "hdbscan_lemmatized_topic_info"
   ],
   "metadata": {
    "collapsed": false
   }
  },
  {
   "cell_type": "markdown",
   "source": [
    "## 4. Lementjük a modelleket és a topikokat"
   ],
   "metadata": {
    "collapsed": false
   }
  },
  {
   "cell_type": "code",
   "execution_count": null,
   "outputs": [],
   "source": [
    "def save_model(model_name, model_path):\n",
    "    model_name.save(model_path, serialization=\"pickle\")"
   ],
   "metadata": {
    "collapsed": false
   }
  },
  {
   "cell_type": "code",
   "execution_count": null,
   "outputs": [],
   "source": [
    "a = save_model(btm_jo_seed,\"../data/models/bert_stop_2_probabilities\")"
   ],
   "metadata": {
    "collapsed": false
   }
  },
  {
   "cell_type": "code",
   "execution_count": null,
   "outputs": [],
   "source": [
    "def save_topic_info(model_topic_info, topic_path):\n",
    "    model_topic_info.to_csv(topic_path, sep=\",\", index=False)"
   ],
   "metadata": {
    "collapsed": false
   }
  },
  {
   "cell_type": "code",
   "execution_count": null,
   "outputs": [],
   "source": [
    "b = save_topic_info(btm_jo_seed_probs_ti, \"../data/topic_info/bert_stop_2_probabilities.csv\")"
   ],
   "metadata": {
    "collapsed": false
   }
  },
  {
   "cell_type": "markdown",
   "source": [
    "## 5. Összevonjuk a hasonló topikokat"
   ],
   "metadata": {
    "collapsed": false
   }
  },
  {
   "cell_type": "markdown",
   "source": [
    "## Először betöltjük a használni kívánt modellt"
   ],
   "metadata": {
    "collapsed": false
   }
  },
  {
   "cell_type": "code",
   "execution_count": null,
   "outputs": [],
   "source": [
    "loaded_model_path = \"../data/models/bert_stop_2_probabilities\"\n",
    "loaded_model = BERTopic.load(loaded_model_path)\n",
    "print(\"A modellt betöltöttük\")"
   ],
   "metadata": {
    "collapsed": false
   }
  },
  {
   "cell_type": "code",
   "execution_count": null,
   "outputs": [],
   "source": [
    "loaded_model.get_topic_info()"
   ],
   "metadata": {
    "collapsed": false
   }
  },
  {
   "cell_type": "markdown",
   "source": [
    "## 5.1 Lekérjük a similarity hetmapet, hogy vizuálisan lássuk, mely témák hasonlóak"
   ],
   "metadata": {
    "collapsed": false
   }
  },
  {
   "cell_type": "code",
   "execution_count": null,
   "outputs": [],
   "source": [
    "loaded_model.visualize_heatmap()"
   ],
   "metadata": {
    "collapsed": false
   }
  },
  {
   "cell_type": "markdown",
   "source": [
    "## 5.2 Lekérjük a témák hierarchiáját, hogy lássuk a témák alá-fölé rendeltségének összefüggéseit"
   ],
   "metadata": {
    "collapsed": false
   }
  },
  {
   "cell_type": "code",
   "execution_count": null,
   "outputs": [],
   "source": [
    "hierarchical_topics = loaded_model.hierarchical_topics(doc_stop_2)\n",
    "\n",
    "# Visualize these representations\n",
    "loaded_model.visualize_hierarchy(hierarchical_topics=hierarchical_topics)"
   ],
   "metadata": {
    "collapsed": false
   }
  },
  {
   "cell_type": "markdown",
   "source": [
    "## 5.2 Megnézzük, mely témák hasonlítanak számszerűsítve"
   ],
   "metadata": {
    "collapsed": false
   }
  },
  {
   "cell_type": "code",
   "execution_count": null,
   "outputs": [],
   "source": [
    "from sklearn.metrics.pairwise import cosine_similarity\n",
    "import numpy as np\n",
    "import pandas as pd\n",
    "\n",
    "distance_matrix = cosine_similarity(np.array(loaded_model.topic_embeddings_))\n",
    "dist_df = pd.DataFrame(distance_matrix, columns=loaded_model.topic_labels_.values(),\n",
    "                       index=loaded_model.topic_labels_.values())\n",
    "\n",
    "tmp = []\n",
    "for rec in dist_df.reset_index().to_dict('records'):\n",
    "    t1 = rec['index']\n",
    "    for t2 in rec:\n",
    "        if t2 == 'index':\n",
    "            continue\n",
    "        tmp.append(\n",
    "            {\n",
    "                'topic1': t1,\n",
    "                'topic2': t2,\n",
    "                'distance': rec[t2]\n",
    "            }\n",
    "        )\n",
    "\n",
    "pair_dist_df = pd.DataFrame(tmp)\n",
    "\n",
    "pair_dist_df = pair_dist_df[(pair_dist_df.topic1.map(\n",
    "      lambda x: not x.startswith('-1'))) &\n",
    "            (pair_dist_df.topic2.map(lambda x: not x.startswith('-1')))]\n",
    "pair_dist_df = pair_dist_df[pair_dist_df.topic1 < pair_dist_df.topic2]\n",
    "pair_dist_df.sort_values('distance', ascending = False).head(20)"
   ],
   "metadata": {
    "collapsed": false
   }
  },
  {
   "cell_type": "markdown",
   "source": [
    "## 5.3 Megnézzük, mely témák hasonlítanak nagyobb, mint 85%-ban. Lementjük az adatot."
   ],
   "metadata": {
    "collapsed": false
   }
  },
  {
   "cell_type": "code",
   "execution_count": null,
   "outputs": [],
   "source": [
    "similar_topics = pair_dist_df[pair_dist_df[\"distance\"] > 0.85]\n",
    "similar_topics"
   ],
   "metadata": {
    "collapsed": false
   }
  },
  {
   "cell_type": "code",
   "execution_count": null,
   "outputs": [],
   "source": [
    "similar_topics.to_csv(\"../data/similar_topics_85.csv\")"
   ],
   "metadata": {
    "collapsed": false
   }
  },
  {
   "cell_type": "markdown",
   "source": [
    "## 5.6 Áttanulmányozzuk a lementett csv-t és eldöntjük, mely témákat érdemes összevonni a számszerűsített hasonlóság miatt. Megadjuk az összevonandó témákat, majd összevonjuk ezeket."
   ],
   "metadata": {
    "collapsed": false
   }
  },
  {
   "cell_type": "code",
   "execution_count": null,
   "outputs": [],
   "source": [
    "topics_to_merge = [[0, 7, 8, 13, 15, 16, 20, 26, 27, 30, 35, 36, 38, 41, 42], [2, 38, 20], [5, 39], [1,6], [18, 19]] #1.csoport: diskurzus előremozdítása, többnyire:igen, aha, hüm, ja 2. csoport: hümögés, 3. csoport: placeholder = stopszavak, 4. csoport: nevetés, 5. csoport: nyelvek\n",
    "loaded_model.merge_topics(doc_stop_2, topics_to_merge)"
   ],
   "metadata": {
    "collapsed": false
   }
  },
  {
   "cell_type": "code",
   "execution_count": null,
   "outputs": [],
   "source": [
    "merged_ti = loaded_model.get_topic_info()\n",
    "merged_ti"
   ],
   "metadata": {
    "collapsed": false
   }
  },
  {
   "cell_type": "markdown",
   "source": [
    "## 5.7 Lementjük a frissített, összevont témákat tartalmazó topic modellt és a topikokat"
   ],
   "metadata": {
    "collapsed": false
   }
  },
  {
   "cell_type": "code",
   "execution_count": null,
   "outputs": [],
   "source": [
    "st = save_topic_info(merged_ti, \"../data/topic_info/bert_stop_2_probabilities_merged_85.csv\")"
   ],
   "metadata": {
    "collapsed": false
   }
  },
  {
   "cell_type": "code",
   "execution_count": null,
   "outputs": [],
   "source": [
    "sm = save_model(loaded_model,\"../data/models/bert_stop_2_probabilities_merged_85\")"
   ],
   "metadata": {
    "collapsed": false
   }
  }
 ],
 "metadata": {
  "kernelspec": {
   "display_name": "Python 3",
   "language": "python",
   "name": "python3"
  },
  "language_info": {
   "codemirror_mode": {
    "name": "ipython",
    "version": 2
   },
   "file_extension": ".py",
   "mimetype": "text/x-python",
   "name": "python",
   "nbconvert_exporter": "python",
   "pygments_lexer": "ipython2",
   "version": "2.7.6"
  }
 },
 "nbformat": 4,
 "nbformat_minor": 0
}
